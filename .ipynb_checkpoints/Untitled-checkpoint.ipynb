{
 "cells": [
  {
   "cell_type": "code",
   "execution_count": 18,
   "metadata": {
    "collapsed": false
   },
   "outputs": [],
   "source": [
    "from selenium import webdriver\n",
    "from selenium.webdriver.common.keys import Keys\n",
    "import os\n",
    "import json\n",
    "import urllib\n",
    "import sys\n",
    "import time\n",
    "\n",
    "# adding path to geckodriver to the OS environment variable\n",
    "os.environ[\"PATH\"] += os.pathsep + os.getcwd()\n",
    "# download_path = \"dataset/\"\n",
    "\n",
    "def google_image_search(searchtext='street+fashion', num_requested=2000, download_path='output/street_fashion'):\n",
    "#     searchtext = sys.argv[1]\n",
    "#     num_requested = int(sys.argv[2])\n",
    "    number_of_scrolls = int(num_requested / 400) + 1 \n",
    "    # number_of_scrolls * 400 images will be opened in the browser\n",
    "\n",
    "    if not os.path.exists(download_path + searchtext.replace(\" \", \"_\")):\n",
    "        os.makedirs(download_path + searchtext.replace(\" \", \"_\"))\n",
    "\n",
    "    url = \"https://www.google.com.hk/search?q=\"+searchtext+\"&source=lnms&tbm=isch\"\n",
    "    driver = webdriver.Chrome('drivers/chromedriver')\n",
    "    driver.get(url)\n",
    "\n",
    "    headers = {}\n",
    "    headers['User-Agent'] = \"Mozilla/5.0 (Windows NT 6.1) AppleWebKit/537.36 (KHTML, like Gecko) Chrome/41.0.2228.0 Safari/537.36\"\n",
    "    extensions = {\"jpg\", \"jpeg\", \"png\", \"gif\"}\n",
    "    img_count = 0\n",
    "    downloaded_img_count = 0\n",
    "\n",
    "    for _ in range(number_of_scrolls):\n",
    "        for __ in range(10):\n",
    "            # multiple scrolls needed to show all 400 images\n",
    "            driver.execute_script(\"window.scrollBy(0, 1000000)\")\n",
    "            time.sleep(0.2)\n",
    "        # to load next 400 images\n",
    "        time.sleep(0.5)\n",
    "        try:\n",
    "            driver.find_element_by_xpath(\"//input[@value='Show more results']\").click()\n",
    "        except Exception as e:\n",
    "            print(\"Less images found:\", e)\n",
    "#             break\n",
    "            continue\n",
    "\n",
    "    # imges = driver.find_elements_by_xpath('//div[@class=\"rg_meta\"]') # not working anymore\n",
    "    imges = driver.find_elements_by_xpath('//div[contains(@class,\"rg_meta\")]')\n",
    "    print(\"Total images:\", len(imges), \"\\n\")\n",
    "    for img in imges:\n",
    "        img_count += 1\n",
    "        img_url = json.loads(img.get_attribute('innerHTML'))[\"ou\"]\n",
    "        img_type = json.loads(img.get_attribute('innerHTML'))[\"ity\"]\n",
    "        print(\"Downloading image\", img_count, \": \", img_url)\n",
    "        try:\n",
    "            if img_type not in extensions:\n",
    "                img_type = \"jpg\"\n",
    "            req = urllib.Request(img_url, headers=headers)\n",
    "            raw_img = urllib.urlopen(req).read()\n",
    "            f = open(download_path+searchtext.replace(\" \", \"_\")+\"/\"+str(downloaded_img_count)+\".\"+img_type, \"wb\")\n",
    "            f.write(raw_img)\n",
    "            f.close\n",
    "            downloaded_img_count += 1\n",
    "        except Exception as e:\n",
    "            print(\"Download failed:\", e)\n",
    "        finally:\n",
    "            print\n",
    "        if downloaded_img_count >= num_requested:\n",
    "            break\n",
    "\n",
    "    print(\"Total downloaded: \", downloaded_img_count, \"/\", img_count)\n",
    "    driver.quit()\n"
   ]
  },
  {
   "cell_type": "code",
   "execution_count": 19,
   "metadata": {
    "collapsed": false
   },
   "outputs": [
    {
     "name": "stdout",
     "output_type": "stream",
     "text": [
      "Less images found: Message: no such element: Unable to locate element: {\"method\":\"xpath\",\"selector\":\"//input[@value='Show more results']\"}\n",
      "  (Session info: chrome=63.0.3239.132)\n",
      "  (Driver info: chromedriver=2.35.528157 (4429ca2590d6988c0745c24c8858745aaaec01ef),platform=Mac OS X 10.13.3 x86_64)\n",
      "\n",
      "Less images found: Message: no such element: Unable to locate element: {\"method\":\"xpath\",\"selector\":\"//input[@value='Show more results']\"}\n",
      "  (Session info: chrome=63.0.3239.132)\n",
      "  (Driver info: chromedriver=2.35.528157 (4429ca2590d6988c0745c24c8858745aaaec01ef),platform=Mac OS X 10.13.3 x86_64)\n",
      "\n",
      "Less images found: Message: no such element: Unable to locate element: {\"method\":\"xpath\",\"selector\":\"//input[@value='Show more results']\"}\n",
      "  (Session info: chrome=63.0.3239.132)\n",
      "  (Driver info: chromedriver=2.35.528157 (4429ca2590d6988c0745c24c8858745aaaec01ef),platform=Mac OS X 10.13.3 x86_64)\n",
      "\n",
      "Less images found: Message: no such element: Unable to locate element: {\"method\":\"xpath\",\"selector\":\"//input[@value='Show more results']\"}\n",
      "  (Session info: chrome=63.0.3239.132)\n",
      "  (Driver info: chromedriver=2.35.528157 (4429ca2590d6988c0745c24c8858745aaaec01ef),platform=Mac OS X 10.13.3 x86_64)\n",
      "\n",
      "Less images found: Message: no such element: Unable to locate element: {\"method\":\"xpath\",\"selector\":\"//input[@value='Show more results']\"}\n",
      "  (Session info: chrome=63.0.3239.132)\n",
      "  (Driver info: chromedriver=2.35.528157 (4429ca2590d6988c0745c24c8858745aaaec01ef),platform=Mac OS X 10.13.3 x86_64)\n",
      "\n",
      "Less images found: Message: no such element: Unable to locate element: {\"method\":\"xpath\",\"selector\":\"//input[@value='Show more results']\"}\n",
      "  (Session info: chrome=63.0.3239.132)\n",
      "  (Driver info: chromedriver=2.35.528157 (4429ca2590d6988c0745c24c8858745aaaec01ef),platform=Mac OS X 10.13.3 x86_64)\n",
      "\n",
      "Total images: 0 \n",
      "\n",
      "Total downloaded:  0 / 0\n"
     ]
    }
   ],
   "source": [
    "google_image_search()"
   ]
  },
  {
   "cell_type": "code",
   "execution_count": null,
   "metadata": {
    "collapsed": true
   },
   "outputs": [],
   "source": []
  },
  {
   "cell_type": "code",
   "execution_count": null,
   "metadata": {
    "collapsed": true
   },
   "outputs": [],
   "source": []
  }
 ],
 "metadata": {
  "kernelspec": {
   "display_name": "Python 3",
   "language": "python",
   "name": "python3"
  },
  "language_info": {
   "codemirror_mode": {
    "name": "ipython",
    "version": 3
   },
   "file_extension": ".py",
   "mimetype": "text/x-python",
   "name": "python",
   "nbconvert_exporter": "python",
   "pygments_lexer": "ipython3",
   "version": "3.5.2"
  }
 },
 "nbformat": 4,
 "nbformat_minor": 2
}
